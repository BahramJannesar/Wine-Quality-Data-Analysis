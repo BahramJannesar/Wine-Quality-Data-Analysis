{
 "cells": [
  {
   "cell_type": "code",
   "execution_count": 4,
   "metadata": {},
   "outputs": [],
   "source": [
    "import numpy as np\n",
    "import pandas as pd\n",
    "from sklearn import metrics\n",
    "from sklearn.preprocessing import StandardScaler\n",
    "from sklearn.model_selection import KFold , cross_val_score , train_test_split ,  GridSearchCV\n",
    "from sklearn.linear_model import LinearRegression , Lasso , Ridge\n",
    "from sklearn.tree import DecisionTreeRegressor\n",
    "from sklearn.ensemble import AdaBoostRegressor , BaggingRegressor , ExtraTreesRegressor , GradientBoostingRegressor , RandomForestRegressor\n",
    "from xgboost import XGBRegressor "
   ]
  },
  {
   "cell_type": "code",
   "execution_count": 5,
   "metadata": {},
   "outputs": [],
   "source": [
    "red_wine = pd.read_csv(\"datasets/winequality-red.csv\", sep= \";\")\n",
    "white_wine = pd.read_csv(\"datasets/winequality-white.csv\", sep= \";\")"
   ]
  },
  {
   "cell_type": "code",
   "execution_count": 6,
   "metadata": {},
   "outputs": [
    {
     "data": {
      "text/html": [
       "<div>\n",
       "<style scoped>\n",
       "    .dataframe tbody tr th:only-of-type {\n",
       "        vertical-align: middle;\n",
       "    }\n",
       "\n",
       "    .dataframe tbody tr th {\n",
       "        vertical-align: top;\n",
       "    }\n",
       "\n",
       "    .dataframe thead th {\n",
       "        text-align: right;\n",
       "    }\n",
       "</style>\n",
       "<table border=\"1\" class=\"dataframe\">\n",
       "  <thead>\n",
       "    <tr style=\"text-align: right;\">\n",
       "      <th></th>\n",
       "      <th>fixed acidity</th>\n",
       "      <th>volatile acidity</th>\n",
       "      <th>citric acid</th>\n",
       "      <th>residual sugar</th>\n",
       "      <th>chlorides</th>\n",
       "      <th>free sulfur dioxide</th>\n",
       "      <th>total sulfur dioxide</th>\n",
       "      <th>density</th>\n",
       "      <th>pH</th>\n",
       "      <th>sulphates</th>\n",
       "      <th>alcohol</th>\n",
       "      <th>quality</th>\n",
       "    </tr>\n",
       "  </thead>\n",
       "  <tbody>\n",
       "    <tr>\n",
       "      <th>0</th>\n",
       "      <td>7.4</td>\n",
       "      <td>0.70</td>\n",
       "      <td>0.00</td>\n",
       "      <td>1.9</td>\n",
       "      <td>0.076</td>\n",
       "      <td>11.0</td>\n",
       "      <td>34.0</td>\n",
       "      <td>0.9978</td>\n",
       "      <td>3.51</td>\n",
       "      <td>0.56</td>\n",
       "      <td>9.4</td>\n",
       "      <td>5</td>\n",
       "    </tr>\n",
       "    <tr>\n",
       "      <th>1</th>\n",
       "      <td>7.8</td>\n",
       "      <td>0.88</td>\n",
       "      <td>0.00</td>\n",
       "      <td>2.6</td>\n",
       "      <td>0.098</td>\n",
       "      <td>25.0</td>\n",
       "      <td>67.0</td>\n",
       "      <td>0.9968</td>\n",
       "      <td>3.20</td>\n",
       "      <td>0.68</td>\n",
       "      <td>9.8</td>\n",
       "      <td>5</td>\n",
       "    </tr>\n",
       "    <tr>\n",
       "      <th>2</th>\n",
       "      <td>7.8</td>\n",
       "      <td>0.76</td>\n",
       "      <td>0.04</td>\n",
       "      <td>2.3</td>\n",
       "      <td>0.092</td>\n",
       "      <td>15.0</td>\n",
       "      <td>54.0</td>\n",
       "      <td>0.9970</td>\n",
       "      <td>3.26</td>\n",
       "      <td>0.65</td>\n",
       "      <td>9.8</td>\n",
       "      <td>5</td>\n",
       "    </tr>\n",
       "    <tr>\n",
       "      <th>3</th>\n",
       "      <td>11.2</td>\n",
       "      <td>0.28</td>\n",
       "      <td>0.56</td>\n",
       "      <td>1.9</td>\n",
       "      <td>0.075</td>\n",
       "      <td>17.0</td>\n",
       "      <td>60.0</td>\n",
       "      <td>0.9980</td>\n",
       "      <td>3.16</td>\n",
       "      <td>0.58</td>\n",
       "      <td>9.8</td>\n",
       "      <td>6</td>\n",
       "    </tr>\n",
       "    <tr>\n",
       "      <th>4</th>\n",
       "      <td>7.4</td>\n",
       "      <td>0.70</td>\n",
       "      <td>0.00</td>\n",
       "      <td>1.9</td>\n",
       "      <td>0.076</td>\n",
       "      <td>11.0</td>\n",
       "      <td>34.0</td>\n",
       "      <td>0.9978</td>\n",
       "      <td>3.51</td>\n",
       "      <td>0.56</td>\n",
       "      <td>9.4</td>\n",
       "      <td>5</td>\n",
       "    </tr>\n",
       "  </tbody>\n",
       "</table>\n",
       "</div>"
      ],
      "text/plain": [
       "   fixed acidity  volatile acidity  citric acid  residual sugar  chlorides  \\\n",
       "0            7.4              0.70         0.00             1.9      0.076   \n",
       "1            7.8              0.88         0.00             2.6      0.098   \n",
       "2            7.8              0.76         0.04             2.3      0.092   \n",
       "3           11.2              0.28         0.56             1.9      0.075   \n",
       "4            7.4              0.70         0.00             1.9      0.076   \n",
       "\n",
       "   free sulfur dioxide  total sulfur dioxide  density    pH  sulphates  \\\n",
       "0                 11.0                  34.0   0.9978  3.51       0.56   \n",
       "1                 25.0                  67.0   0.9968  3.20       0.68   \n",
       "2                 15.0                  54.0   0.9970  3.26       0.65   \n",
       "3                 17.0                  60.0   0.9980  3.16       0.58   \n",
       "4                 11.0                  34.0   0.9978  3.51       0.56   \n",
       "\n",
       "   alcohol  quality  \n",
       "0      9.4        5  \n",
       "1      9.8        5  \n",
       "2      9.8        5  \n",
       "3      9.8        6  \n",
       "4      9.4        5  "
      ]
     },
     "execution_count": 6,
     "metadata": {},
     "output_type": "execute_result"
    }
   ],
   "source": [
    "red_wine.head()"
   ]
  },
  {
   "cell_type": "code",
   "execution_count": 7,
   "metadata": {},
   "outputs": [],
   "source": [
    "X = red_wine[[\"fixed acidity\", \"volatile acidity\", \"citric acid\", \"residual sugar\",\n",
    "       \"chlorides\", \"free sulfur dioxide\", \"total sulfur dioxide\", \"density\",\n",
    "       \"pH\", \"sulphates\", \"alcohol\"]]\n",
    "y = red_wine[[\"quality\"]]"
   ]
  },
  {
   "cell_type": "code",
   "execution_count": 8,
   "metadata": {},
   "outputs": [
    {
     "name": "stderr",
     "output_type": "stream",
     "text": [
      "/home/mars/.local/lib/python2.7/site-packages/sklearn/preprocessing/data.py:645: DataConversionWarning: Data with input dtype int64 were all converted to float64 by StandardScaler.\n",
      "  return self.partial_fit(X, y)\n",
      "/home/mars/.local/lib/python2.7/site-packages/sklearn/base.py:464: DataConversionWarning: Data with input dtype int64 were all converted to float64 by StandardScaler.\n",
      "  return self.fit(X, **fit_params).transform(X)\n"
     ]
    }
   ],
   "source": [
    "from sklearn.preprocessing import StandardScaler\n",
    "scalar = StandardScaler()\n",
    "X = scalar.fit_transform(X)\n",
    "y = scalar.fit_transform(y)"
   ]
  },
  {
   "cell_type": "code",
   "execution_count": 9,
   "metadata": {},
   "outputs": [],
   "source": [
    "X_train, X_test, y_train, y_test = train_test_split(X, y, test_size= 0.2, random_state= 42)"
   ]
  },
  {
   "cell_type": "code",
   "execution_count": 10,
   "metadata": {},
   "outputs": [],
   "source": [
    "Model = []\n",
    "RMSE = []\n",
    "MAE = []\n",
    "MSE = []\n",
    "R_Square = []"
   ]
  },
  {
   "cell_type": "code",
   "execution_count": 11,
   "metadata": {},
   "outputs": [],
   "source": [
    "def input_scores(name, model, x, y):\n",
    "    Model.append(name)\n",
    "    RMSE.append(np.sqrt((-1) * cross_val_score(model, x, y, cv=cv, \n",
    "                                               scoring='neg_mean_squared_error').mean()))\n",
    "    R_Square.append(cross_val_score(model, x, y, cv=cv, scoring='r2').mean())"
   ]
  },
  {
   "cell_type": "code",
   "execution_count": 12,
   "metadata": {},
   "outputs": [],
   "source": [
    "names = [\"Linear Regression\", \"Ridge Regression\", \"Lasso Regression\",\n",
    "         \"Decision Tree Regressor\", \"Random Forest Regressor\", \"Gradient Boosting Regressor\",\n",
    "         \"Adaboost Regressor\", \"BaggingRegressor\", \"ExtraTreesRegressor\",]\n",
    "models = [LinearRegression(), Ridge(), Lasso(), DecisionTreeRegressor(),\n",
    "          RandomForestRegressor(), GradientBoostingRegressor(), \n",
    "          AdaBoostRegressor(), BaggingRegressor(), ExtraTreesRegressor()]"
   ]
  },
  {
   "cell_type": "code",
   "execution_count": null,
   "metadata": {},
   "outputs": [],
   "source": []
  },
  {
   "cell_type": "code",
   "execution_count": 13,
   "metadata": {},
   "outputs": [],
   "source": [
    "def evaluate(true, predicted):\n",
    "    MAE.append(metrics.mean_absolute_error(true, predicted))\n",
    "    MSE.append(metrics.mean_squared_error(true, predicted))\n",
    "    RMSE.append(np.sqrt(metrics.mean_squared_error(true, predicted)))\n",
    "    R_Square.append(metrics.r2_score(true, predicted))"
   ]
  },
  {
   "cell_type": "code",
   "execution_count": 14,
   "metadata": {},
   "outputs": [],
   "source": [
    "def print_evaluate(true, predicted):  \n",
    "    mae = metrics.mean_absolute_error(true, predicted)\n",
    "    mse = metrics.mean_squared_error(true, predicted)\n",
    "    rmse = np.sqrt(metrics.mean_squared_error(true, predicted))\n",
    "    r2_square = metrics.r2_score(true, predicted)\n",
    "    print(\"MAE:\", mae)\n",
    "    print(\"MSE:\", mse)\n",
    "    print(\"RMSE:\", rmse)\n",
    "    print(\"R2 Square\", r2_square)"
   ]
  },
  {
   "cell_type": "code",
   "execution_count": 15,
   "metadata": {},
   "outputs": [],
   "source": [
    "def fit_and_predict(name, model):\n",
    "    variable_of_model = model\n",
    "    variable_of_model.fit(X_train, y_train.ravel())\n",
    "    pred = variable_of_model.predict(X_test)\n",
    "    evaluate(y_test, pred)"
   ]
  },
  {
   "cell_type": "code",
   "execution_count": 16,
   "metadata": {},
   "outputs": [
    {
     "name": "stderr",
     "output_type": "stream",
     "text": [
      "/home/mars/.local/lib/python2.7/site-packages/sklearn/ensemble/forest.py:246: FutureWarning: The default value of n_estimators will change from 10 in version 0.20 to 100 in 0.22.\n",
      "  \"10 in version 0.20 to 100 in 0.22.\", FutureWarning)\n"
     ]
    }
   ],
   "source": [
    "for name, model in zip(names, models):\n",
    "    fit_and_predict(name, model)"
   ]
  },
  {
   "cell_type": "code",
   "execution_count": 17,
   "metadata": {},
   "outputs": [],
   "source": [
    "evaluation_dataframe_red = pd.DataFrame({\"Model\": names,\n",
    "                                     \"MAE\": MAE,\n",
    "                                     \"MSE\": MSE,\n",
    "                                     \"RMSE\": RMSE,\n",
    "                                     \"R Squared\": R_Square})"
   ]
  },
  {
   "cell_type": "code",
   "execution_count": 18,
   "metadata": {},
   "outputs": [],
   "source": [
    "evaluation_dataframe_red = evaluation_dataframe_red.sort_values(\"R Squared\")"
   ]
  },
  {
   "cell_type": "code",
   "execution_count": 19,
   "metadata": {},
   "outputs": [
    {
     "data": {
      "text/html": [
       "<div>\n",
       "<style scoped>\n",
       "    .dataframe tbody tr th:only-of-type {\n",
       "        vertical-align: middle;\n",
       "    }\n",
       "\n",
       "    .dataframe tbody tr th {\n",
       "        vertical-align: top;\n",
       "    }\n",
       "\n",
       "    .dataframe thead th {\n",
       "        text-align: right;\n",
       "    }\n",
       "</style>\n",
       "<table border=\"1\" class=\"dataframe\">\n",
       "  <thead>\n",
       "    <tr style=\"text-align: right;\">\n",
       "      <th></th>\n",
       "      <th>MAE</th>\n",
       "      <th>MSE</th>\n",
       "      <th>Model</th>\n",
       "      <th>R Squared</th>\n",
       "      <th>RMSE</th>\n",
       "    </tr>\n",
       "  </thead>\n",
       "  <tbody>\n",
       "    <tr>\n",
       "      <th>2</th>\n",
       "      <td>0.848841</td>\n",
       "      <td>1.008285</td>\n",
       "      <td>Lasso Regression</td>\n",
       "      <td>-0.005592</td>\n",
       "      <td>1.004134</td>\n",
       "    </tr>\n",
       "    <tr>\n",
       "      <th>3</th>\n",
       "      <td>0.569014</td>\n",
       "      <td>0.925378</td>\n",
       "      <td>Decision Tree Regressor</td>\n",
       "      <td>0.077093</td>\n",
       "      <td>0.961966</td>\n",
       "    </tr>\n",
       "    <tr>\n",
       "      <th>1</th>\n",
       "      <td>0.623743</td>\n",
       "      <td>0.598435</td>\n",
       "      <td>Ridge Regression</td>\n",
       "      <td>0.403163</td>\n",
       "      <td>0.773586</td>\n",
       "    </tr>\n",
       "    <tr>\n",
       "      <th>0</th>\n",
       "      <td>0.623709</td>\n",
       "      <td>0.598418</td>\n",
       "      <td>Linear Regression</td>\n",
       "      <td>0.403180</td>\n",
       "      <td>0.773575</td>\n",
       "    </tr>\n",
       "    <tr>\n",
       "      <th>6</th>\n",
       "      <td>0.634806</td>\n",
       "      <td>0.594606</td>\n",
       "      <td>Adaboost Regressor</td>\n",
       "      <td>0.406982</td>\n",
       "      <td>0.771107</td>\n",
       "    </tr>\n",
       "    <tr>\n",
       "      <th>5</th>\n",
       "      <td>0.603229</td>\n",
       "      <td>0.561716</td>\n",
       "      <td>Gradient Boosting Regressor</td>\n",
       "      <td>0.439784</td>\n",
       "      <td>0.749477</td>\n",
       "    </tr>\n",
       "    <tr>\n",
       "      <th>4</th>\n",
       "      <td>0.531080</td>\n",
       "      <td>0.518979</td>\n",
       "      <td>Random Forest Regressor</td>\n",
       "      <td>0.482407</td>\n",
       "      <td>0.720402</td>\n",
       "    </tr>\n",
       "    <tr>\n",
       "      <th>8</th>\n",
       "      <td>0.499726</td>\n",
       "      <td>0.492081</td>\n",
       "      <td>ExtraTreesRegressor</td>\n",
       "      <td>0.509234</td>\n",
       "      <td>0.701485</td>\n",
       "    </tr>\n",
       "    <tr>\n",
       "      <th>7</th>\n",
       "      <td>0.521403</td>\n",
       "      <td>0.486711</td>\n",
       "      <td>BaggingRegressor</td>\n",
       "      <td>0.514589</td>\n",
       "      <td>0.697646</td>\n",
       "    </tr>\n",
       "  </tbody>\n",
       "</table>\n",
       "</div>"
      ],
      "text/plain": [
       "        MAE       MSE                        Model  R Squared      RMSE\n",
       "2  0.848841  1.008285             Lasso Regression  -0.005592  1.004134\n",
       "3  0.569014  0.925378      Decision Tree Regressor   0.077093  0.961966\n",
       "1  0.623743  0.598435             Ridge Regression   0.403163  0.773586\n",
       "0  0.623709  0.598418            Linear Regression   0.403180  0.773575\n",
       "6  0.634806  0.594606           Adaboost Regressor   0.406982  0.771107\n",
       "5  0.603229  0.561716  Gradient Boosting Regressor   0.439784  0.749477\n",
       "4  0.531080  0.518979      Random Forest Regressor   0.482407  0.720402\n",
       "8  0.499726  0.492081          ExtraTreesRegressor   0.509234  0.701485\n",
       "7  0.521403  0.486711             BaggingRegressor   0.514589  0.697646"
      ]
     },
     "execution_count": 19,
     "metadata": {},
     "output_type": "execute_result"
    }
   ],
   "source": [
    "evaluation_dataframe_red"
   ]
  },
  {
   "cell_type": "code",
   "execution_count": null,
   "metadata": {},
   "outputs": [],
   "source": [
    "#White wine Regression"
   ]
  },
  {
   "cell_type": "code",
   "execution_count": 20,
   "metadata": {},
   "outputs": [],
   "source": [
    "X = white_wine[[\"fixed acidity\", \"volatile acidity\", \"citric acid\", \"residual sugar\",\n",
    "       \"chlorides\", \"free sulfur dioxide\", \"total sulfur dioxide\", \"density\",\n",
    "       \"pH\", \"sulphates\", \"alcohol\"]]\n",
    "y = white_wine[[\"quality\"]]"
   ]
  },
  {
   "cell_type": "code",
   "execution_count": 21,
   "metadata": {},
   "outputs": [],
   "source": [
    "from sklearn.preprocessing import StandardScaler\n",
    "scalar = StandardScaler()\n",
    "X = scalar.fit_transform(X)\n",
    "y = scalar.fit_transform(y)"
   ]
  },
  {
   "cell_type": "code",
   "execution_count": 22,
   "metadata": {},
   "outputs": [],
   "source": [
    "X_train, X_test, y_train, y_test = train_test_split(X, y, test_size= 0.2, random_state= 42)"
   ]
  },
  {
   "cell_type": "code",
   "execution_count": 23,
   "metadata": {},
   "outputs": [],
   "source": [
    "Model = []\n",
    "RMSE = []\n",
    "MAE = []\n",
    "MSE = []\n",
    "R_Square = []"
   ]
  },
  {
   "cell_type": "code",
   "execution_count": 24,
   "metadata": {},
   "outputs": [],
   "source": [
    "for name, model in zip(names, models):\n",
    "    fit_and_predict(name, model)"
   ]
  },
  {
   "cell_type": "code",
   "execution_count": 25,
   "metadata": {},
   "outputs": [],
   "source": [
    "evaluation_dataframe_white = pd.DataFrame({\"Model\": names,\n",
    "                                     \"MAE\": MAE,\n",
    "                                     \"MSE\": MSE,\n",
    "                                     \"RMSE\": RMSE,\n",
    "                                     \"R Squared\": R_Square})"
   ]
  },
  {
   "cell_type": "code",
   "execution_count": 26,
   "metadata": {},
   "outputs": [],
   "source": [
    "evaluation_dataframe_white = evaluation_dataframe_white.sort_values(\"R Squared\")"
   ]
  },
  {
   "cell_type": "code",
   "execution_count": 27,
   "metadata": {},
   "outputs": [
    {
     "data": {
      "text/html": [
       "<div>\n",
       "<style scoped>\n",
       "    .dataframe tbody tr th:only-of-type {\n",
       "        vertical-align: middle;\n",
       "    }\n",
       "\n",
       "    .dataframe tbody tr th {\n",
       "        vertical-align: top;\n",
       "    }\n",
       "\n",
       "    .dataframe thead th {\n",
       "        text-align: right;\n",
       "    }\n",
       "</style>\n",
       "<table border=\"1\" class=\"dataframe\">\n",
       "  <thead>\n",
       "    <tr style=\"text-align: right;\">\n",
       "      <th></th>\n",
       "      <th>MAE</th>\n",
       "      <th>MSE</th>\n",
       "      <th>Model</th>\n",
       "      <th>R Squared</th>\n",
       "      <th>RMSE</th>\n",
       "    </tr>\n",
       "  </thead>\n",
       "  <tbody>\n",
       "    <tr>\n",
       "      <th>2</th>\n",
       "      <td>0.762216</td>\n",
       "      <td>0.988967</td>\n",
       "      <td>Lasso Regression</td>\n",
       "      <td>-0.001382</td>\n",
       "      <td>0.994468</td>\n",
       "    </tr>\n",
       "    <tr>\n",
       "      <th>3</th>\n",
       "      <td>0.543881</td>\n",
       "      <td>0.864008</td>\n",
       "      <td>Decision Tree Regressor</td>\n",
       "      <td>0.125146</td>\n",
       "      <td>0.929520</td>\n",
       "    </tr>\n",
       "    <tr>\n",
       "      <th>1</th>\n",
       "      <td>0.662095</td>\n",
       "      <td>0.725718</td>\n",
       "      <td>Ridge Regression</td>\n",
       "      <td>0.265172</td>\n",
       "      <td>0.851891</td>\n",
       "    </tr>\n",
       "    <tr>\n",
       "      <th>0</th>\n",
       "      <td>0.662038</td>\n",
       "      <td>0.725616</td>\n",
       "      <td>Linear Regression</td>\n",
       "      <td>0.265275</td>\n",
       "      <td>0.851831</td>\n",
       "    </tr>\n",
       "    <tr>\n",
       "      <th>6</th>\n",
       "      <td>0.657574</td>\n",
       "      <td>0.689550</td>\n",
       "      <td>Adaboost Regressor</td>\n",
       "      <td>0.301794</td>\n",
       "      <td>0.830392</td>\n",
       "    </tr>\n",
       "    <tr>\n",
       "      <th>5</th>\n",
       "      <td>0.605155</td>\n",
       "      <td>0.589244</td>\n",
       "      <td>Gradient Boosting Regressor</td>\n",
       "      <td>0.403359</td>\n",
       "      <td>0.767622</td>\n",
       "    </tr>\n",
       "    <tr>\n",
       "      <th>7</th>\n",
       "      <td>0.499748</td>\n",
       "      <td>0.500071</td>\n",
       "      <td>BaggingRegressor</td>\n",
       "      <td>0.493652</td>\n",
       "      <td>0.707157</td>\n",
       "    </tr>\n",
       "    <tr>\n",
       "      <th>4</th>\n",
       "      <td>0.495485</td>\n",
       "      <td>0.481788</td>\n",
       "      <td>Random Forest Regressor</td>\n",
       "      <td>0.512163</td>\n",
       "      <td>0.694110</td>\n",
       "    </tr>\n",
       "    <tr>\n",
       "      <th>8</th>\n",
       "      <td>0.430380</td>\n",
       "      <td>0.447163</td>\n",
       "      <td>ExtraTreesRegressor</td>\n",
       "      <td>0.547223</td>\n",
       "      <td>0.668703</td>\n",
       "    </tr>\n",
       "  </tbody>\n",
       "</table>\n",
       "</div>"
      ],
      "text/plain": [
       "        MAE       MSE                        Model  R Squared      RMSE\n",
       "2  0.762216  0.988967             Lasso Regression  -0.001382  0.994468\n",
       "3  0.543881  0.864008      Decision Tree Regressor   0.125146  0.929520\n",
       "1  0.662095  0.725718             Ridge Regression   0.265172  0.851891\n",
       "0  0.662038  0.725616            Linear Regression   0.265275  0.851831\n",
       "6  0.657574  0.689550           Adaboost Regressor   0.301794  0.830392\n",
       "5  0.605155  0.589244  Gradient Boosting Regressor   0.403359  0.767622\n",
       "7  0.499748  0.500071             BaggingRegressor   0.493652  0.707157\n",
       "4  0.495485  0.481788      Random Forest Regressor   0.512163  0.694110\n",
       "8  0.430380  0.447163          ExtraTreesRegressor   0.547223  0.668703"
      ]
     },
     "execution_count": 27,
     "metadata": {},
     "output_type": "execute_result"
    }
   ],
   "source": [
    "evaluation_dataframe_white"
   ]
  }
 ],
 "metadata": {
  "kernelspec": {
   "display_name": "Python 3",
   "language": "python",
   "name": "python3"
  },
  "language_info": {
   "codemirror_mode": {
    "name": "ipython",
    "version": 2
   },
   "file_extension": ".py",
   "mimetype": "text/x-python",
   "name": "python",
   "nbconvert_exporter": "python",
   "pygments_lexer": "ipython2",
   "version": "2.7.17"
  }
 },
 "nbformat": 4,
 "nbformat_minor": 4
}
